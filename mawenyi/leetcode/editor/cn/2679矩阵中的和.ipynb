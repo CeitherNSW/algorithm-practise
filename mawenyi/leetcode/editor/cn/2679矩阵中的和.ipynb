{
 "cells": [
  {
   "cell_type": "code",
   "execution_count": 12,
   "metadata": {
    "collapsed": true,
    "ExecuteTime": {
     "start_time": "2023-07-04T16:06:35.215546Z",
     "end_time": "2023-07-04T16:06:35.219154Z"
    }
   },
   "outputs": [],
   "source": [
    "nums = [[7,2,1],[6,4,2],[6,5,3],[3,2,1]]\n"
   ]
  },
  {
   "cell_type": "code",
   "execution_count": 13,
   "outputs": [
    {
     "name": "stdout",
     "output_type": "stream",
     "text": [
      "[7]\n",
      "[[2, 1], [6, 4, 2], [6, 5, 3], [3, 2, 1]]\n",
      "0\n",
      "[7, 6]\n",
      "[[2, 1], [4, 2], [6, 5, 3], [3, 2, 1]]\n",
      "0\n",
      "[7, 6, 6]\n",
      "[[2, 1], [4, 2], [5, 3], [3, 2, 1]]\n",
      "0\n",
      "[7, 6, 6, 3]\n",
      "[[2, 1], [4, 2], [5, 3], [2, 1]]\n",
      "0\n",
      "[2]\n",
      "[[1], [4, 2], [5, 3], [2, 1]]\n",
      "7\n",
      "[2, 4]\n",
      "[[1], [2], [5, 3], [2, 1]]\n",
      "7\n",
      "[2, 4, 5]\n",
      "[[1], [2], [3], [2, 1]]\n",
      "7\n",
      "[2, 4, 5, 2]\n",
      "[[1], [2], [3], [1]]\n",
      "7\n",
      "[1]\n",
      "[[], [2], [3], [1]]\n",
      "12\n",
      "[1, 2]\n",
      "[[], [], [3], [1]]\n",
      "12\n",
      "[1, 2, 3]\n",
      "[[], [], [], [1]]\n",
      "12\n",
      "[1, 2, 3, 1]\n",
      "[[], [], [], []]\n",
      "12\n"
     ]
    },
    {
     "data": {
      "text/plain": "15"
     },
     "execution_count": 13,
     "metadata": {},
     "output_type": "execute_result"
    }
   ],
   "source": [
    "def matrixSum(nums):\n",
    "    sum_number = 0\n",
    "    while not(all(not row for row in nums)):\n",
    "        max_number_list = []\n",
    "        for i in range(len(nums)):\n",
    "            max_number_list.append(max(nums[i]))\n",
    "            nums[i].remove(max(nums[i]))\n",
    "\n",
    "            print(max_number_list)\n",
    "            print(nums)\n",
    "            print(sum_number)\n",
    "        sum_number += max(max_number_list)\n",
    "    return sum_number\n",
    "\n",
    "matrixSum(nums)"
   ],
   "metadata": {
    "collapsed": false,
    "ExecuteTime": {
     "start_time": "2023-07-04T16:06:35.743014Z",
     "end_time": "2023-07-04T16:06:35.746178Z"
    }
   }
  },
  {
   "cell_type": "code",
   "execution_count": null,
   "outputs": [],
   "source": [],
   "metadata": {
    "collapsed": false
   }
  }
 ],
 "metadata": {
  "kernelspec": {
   "display_name": "Python 3",
   "language": "python",
   "name": "python3"
  },
  "language_info": {
   "codemirror_mode": {
    "name": "ipython",
    "version": 2
   },
   "file_extension": ".py",
   "mimetype": "text/x-python",
   "name": "python",
   "nbconvert_exporter": "python",
   "pygments_lexer": "ipython2",
   "version": "2.7.6"
  }
 },
 "nbformat": 4,
 "nbformat_minor": 0
}
