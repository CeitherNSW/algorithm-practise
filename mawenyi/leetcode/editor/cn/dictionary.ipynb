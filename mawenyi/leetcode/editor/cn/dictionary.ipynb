{
 "cells": [
  {
   "cell_type": "code",
   "execution_count": 17,
   "metadata": {
    "collapsed": true,
    "ExecuteTime": {
     "end_time": "2023-07-01T10:48:56.387642Z",
     "start_time": "2023-07-01T10:48:56.379892Z"
    }
   },
   "outputs": [],
   "source": [
    "import collections\n",
    "\n",
    "nums = [1, 3, 5, 6, 7, 7, 9 , 8]\n"
   ]
  },
  {
   "cell_type": "markdown",
   "source": [
    "使用第一种方法保存，将列表的值报存在字典的值中，将列表的索引保存在字典的键中"
   ],
   "metadata": {
    "collapsed": false
   }
  },
  {
   "cell_type": "code",
   "execution_count": 6,
   "outputs": [
    {
     "name": "stdout",
     "output_type": "stream",
     "text": [
      "{0: 1, 1: 3, 2: 5, 3: 6, 4: 7, 5: 7, 6: 9, 7: 8}\n"
     ]
    }
   ],
   "source": [
    "hash_table = {}\n",
    "for i in range(len(nums)):\n",
    "    hash_table[i] = nums[i]\n",
    "print(hash_table)"
   ],
   "metadata": {
    "collapsed": false,
    "ExecuteTime": {
     "end_time": "2023-07-01T10:13:12.736393Z",
     "start_time": "2023-07-01T10:13:12.731495Z"
    }
   }
  },
  {
   "cell_type": "markdown",
   "source": [
    "使用第二种方法保存，将列表的值报存在字典的键中，将列表的索引保存在字典的值中\n",
    "但是这种方法会失去列表中重复值的索引\n",
    "\n",
    "在下面的代码框中，我们可以看到，当列表中有重复值时，字典中只会保留最后一个重复值的索引"
   ],
   "metadata": {
    "collapsed": false
   }
  },
  {
   "cell_type": "code",
   "execution_count": 14,
   "outputs": [
    {
     "name": "stdout",
     "output_type": "stream",
     "text": [
      "{1: 0, 3: 1, 5: 2, 6: 3, 7: 5, 9: 6, 8: 7}\n"
     ]
    }
   ],
   "source": [
    "hash_table = {}\n",
    "for i in range(len(nums)):\n",
    "    hash_table[nums[i]] = i\n",
    "print(hash_table)"
   ],
   "metadata": {
    "collapsed": false,
    "ExecuteTime": {
     "end_time": "2023-07-01T10:41:39.817687Z",
     "start_time": "2023-07-01T10:41:39.813187Z"
    }
   }
  },
  {
   "cell_type": "markdown",
   "source": [
    "使用第三种办法，列表的值报存在键中，字典的值中保存列表中值出现的次数\n",
    "但这种方法可能会导致列表索引紊乱\n",
    "\n",
    "一般来说，在不需要索引的情况下，我们可以使用这种方法更多"
   ],
   "metadata": {
    "collapsed": false
   }
  },
  {
   "cell_type": "code",
   "execution_count": 15,
   "outputs": [
    {
     "name": "stdout",
     "output_type": "stream",
     "text": [
      "{1: 1, 3: 1, 5: 1, 6: 1, 7: 2, 9: 1, 8: 1}\n"
     ]
    }
   ],
   "source": [
    "hash_table = {}\n",
    "for i in range(len(nums)):\n",
    "    if nums[i] in hash_table:\n",
    "        hash_table[nums[i]] += 1\n",
    "    else:\n",
    "        hash_table[nums[i]] = 1\n",
    "print(hash_table)\n"
   ],
   "metadata": {
    "collapsed": false,
    "ExecuteTime": {
     "end_time": "2023-07-01T10:48:38.992119Z",
     "start_time": "2023-07-01T10:48:38.990627Z"
    }
   }
  },
  {
   "cell_type": "markdown",
   "source": [
    "另外，上述方法还可以使用库函数collections.Counter()来实现"
   ],
   "metadata": {
    "collapsed": false
   }
  },
  {
   "cell_type": "code",
   "execution_count": 19,
   "outputs": [
    {
     "name": "stdout",
     "output_type": "stream",
     "text": [
      "Counter({7: 2, 1: 1, 3: 1, 5: 1, 6: 1, 9: 1, 8: 1})\n"
     ]
    }
   ],
   "source": [
    "hash_table = collections.Counter(nums)\n",
    "print(hash_table)"
   ],
   "metadata": {
    "collapsed": false,
    "ExecuteTime": {
     "end_time": "2023-07-01T10:49:30.233606Z",
     "start_time": "2023-07-01T10:49:30.230259Z"
    }
   }
  },
  {
   "cell_type": "code",
   "execution_count": null,
   "outputs": [],
   "source": [],
   "metadata": {
    "collapsed": false
   }
  }
 ],
 "metadata": {
  "kernelspec": {
   "display_name": "Python 3",
   "language": "python",
   "name": "python3"
  },
  "language_info": {
   "codemirror_mode": {
    "name": "ipython",
    "version": 2
   },
   "file_extension": ".py",
   "mimetype": "text/x-python",
   "name": "python",
   "nbconvert_exporter": "python",
   "pygments_lexer": "ipython2",
   "version": "2.7.6"
  }
 },
 "nbformat": 4,
 "nbformat_minor": 0
}
